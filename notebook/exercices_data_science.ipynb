{
 "cells": [
  {
   "cell_type": "markdown",
   "id": "0b5f76c3-f9f6-42cf-85e2-3f0e6def0286",
   "metadata": {},
   "source": [
    "# Data Analysis and Data Science\n",
    "## Be curious about the method \n",
    "\n",
    "By: Caroline Labelle\n",
    "<br>For: BIM6065-C\n",
    "\n",
    "<br>\n",
    "Date: July 4th, 2023\n",
    "\n",
    "<hr style=\"border:1px solid black\"> </hr>"
   ]
  },
  {
   "cell_type": "code",
   "execution_count": 1,
   "id": "e545393f-36ef-48fe-a7c5-8ccf4373597d",
   "metadata": {},
   "outputs": [],
   "source": [
    "### Student Name: Emma Teszner"
   ]
  },
  {
   "cell_type": "markdown",
   "id": "9ed6012b-aa81-4f1f-92f4-794ac29b1598",
   "metadata": {},
   "source": [
    "Complete the following exercises and submit your Notebook in a HTML format on StudiUM. You have until July 5th, noon to hand-in your Notebook."
   ]
  },
  {
   "cell_type": "code",
   "execution_count": 8,
   "id": "5b313e3b-06d1-4515-9404-dbe1850ef415",
   "metadata": {},
   "outputs": [],
   "source": [
    "### Import sklearn\n",
    "import sklearn.decomposition, sklearn.cluster\n",
    "\n",
    "### Import scipy\n",
    "import scipy as sp\n",
    "\n",
    "### Import pandas, numpy, seaborn and matplotlib.pyplot\n",
    "import pandas as pd\n",
    "import numpy as np\n",
    "import seaborn as sns"
   ]
  },
  {
   "cell_type": "code",
   "execution_count": 9,
   "id": "c21e56ca-687a-430f-8d89-ec57525e92bb",
   "metadata": {},
   "outputs": [],
   "source": [
    "sns.set(rc={'figure.figsize':(4, 2)})\n",
    "sns.set_theme(context=\"notebook\", style=\"white\", palette=\"Paired\")"
   ]
  },
  {
   "cell_type": "markdown",
   "id": "5b0fd809-ef46-45a8-90fd-748a4fce79fa",
   "metadata": {},
   "source": [
    "## Genes correlation [25 pts]"
   ]
  },
  {
   "cell_type": "code",
   "execution_count": 17,
   "id": "c33fda1e-e5f6-4d17-9b02-ba6e21d7624f",
   "metadata": {},
   "outputs": [
    {
     "data": {
      "text/html": [
       "<div>\n",
       "<style scoped>\n",
       "    .dataframe tbody tr th:only-of-type {\n",
       "        vertical-align: middle;\n",
       "    }\n",
       "\n",
       "    .dataframe tbody tr th {\n",
       "        vertical-align: top;\n",
       "    }\n",
       "\n",
       "    .dataframe thead th {\n",
       "        text-align: right;\n",
       "    }\n",
       "</style>\n",
       "<table border=\"1\" class=\"dataframe\">\n",
       "  <thead>\n",
       "    <tr style=\"text-align: right;\">\n",
       "      <th></th>\n",
       "      <th>ESR1</th>\n",
       "      <th>PGR</th>\n",
       "      <th>BCL2</th>\n",
       "      <th>NAT1</th>\n",
       "      <th>Results</th>\n",
       "    </tr>\n",
       "  </thead>\n",
       "  <tbody>\n",
       "    <tr>\n",
       "      <th>0</th>\n",
       "      <td>5.1</td>\n",
       "      <td>3.5</td>\n",
       "      <td>1.4</td>\n",
       "      <td>0.2</td>\n",
       "      <td>Cured</td>\n",
       "    </tr>\n",
       "    <tr>\n",
       "      <th>1</th>\n",
       "      <td>4.9</td>\n",
       "      <td>3.0</td>\n",
       "      <td>1.4</td>\n",
       "      <td>0.2</td>\n",
       "      <td>Cured</td>\n",
       "    </tr>\n",
       "    <tr>\n",
       "      <th>2</th>\n",
       "      <td>4.7</td>\n",
       "      <td>3.2</td>\n",
       "      <td>1.3</td>\n",
       "      <td>0.2</td>\n",
       "      <td>Cured</td>\n",
       "    </tr>\n",
       "    <tr>\n",
       "      <th>3</th>\n",
       "      <td>4.6</td>\n",
       "      <td>3.1</td>\n",
       "      <td>1.5</td>\n",
       "      <td>0.2</td>\n",
       "      <td>Cured</td>\n",
       "    </tr>\n",
       "    <tr>\n",
       "      <th>4</th>\n",
       "      <td>5.0</td>\n",
       "      <td>3.6</td>\n",
       "      <td>1.4</td>\n",
       "      <td>0.2</td>\n",
       "      <td>Cured</td>\n",
       "    </tr>\n",
       "    <tr>\n",
       "      <th>...</th>\n",
       "      <td>...</td>\n",
       "      <td>...</td>\n",
       "      <td>...</td>\n",
       "      <td>...</td>\n",
       "      <td>...</td>\n",
       "    </tr>\n",
       "    <tr>\n",
       "      <th>145</th>\n",
       "      <td>6.7</td>\n",
       "      <td>3.0</td>\n",
       "      <td>5.2</td>\n",
       "      <td>2.3</td>\n",
       "      <td>Dead</td>\n",
       "    </tr>\n",
       "    <tr>\n",
       "      <th>146</th>\n",
       "      <td>6.3</td>\n",
       "      <td>2.5</td>\n",
       "      <td>5.0</td>\n",
       "      <td>1.9</td>\n",
       "      <td>Dead</td>\n",
       "    </tr>\n",
       "    <tr>\n",
       "      <th>147</th>\n",
       "      <td>6.5</td>\n",
       "      <td>3.0</td>\n",
       "      <td>5.2</td>\n",
       "      <td>2.0</td>\n",
       "      <td>Dead</td>\n",
       "    </tr>\n",
       "    <tr>\n",
       "      <th>148</th>\n",
       "      <td>6.2</td>\n",
       "      <td>3.4</td>\n",
       "      <td>5.4</td>\n",
       "      <td>2.3</td>\n",
       "      <td>Dead</td>\n",
       "    </tr>\n",
       "    <tr>\n",
       "      <th>149</th>\n",
       "      <td>5.9</td>\n",
       "      <td>3.0</td>\n",
       "      <td>5.1</td>\n",
       "      <td>1.8</td>\n",
       "      <td>Dead</td>\n",
       "    </tr>\n",
       "  </tbody>\n",
       "</table>\n",
       "<p>150 rows × 5 columns</p>\n",
       "</div>"
      ],
      "text/plain": [
       "     ESR1  PGR  BCL2  NAT1 Results\n",
       "0     5.1  3.5   1.4   0.2   Cured\n",
       "1     4.9  3.0   1.4   0.2   Cured\n",
       "2     4.7  3.2   1.3   0.2   Cured\n",
       "3     4.6  3.1   1.5   0.2   Cured\n",
       "4     5.0  3.6   1.4   0.2   Cured\n",
       "..    ...  ...   ...   ...     ...\n",
       "145   6.7  3.0   5.2   2.3    Dead\n",
       "146   6.3  2.5   5.0   1.9    Dead\n",
       "147   6.5  3.0   5.2   2.0    Dead\n",
       "148   6.2  3.4   5.4   2.3    Dead\n",
       "149   5.9  3.0   5.1   1.8    Dead\n",
       "\n",
       "[150 rows x 5 columns]"
      ]
     },
     "execution_count": 17,
     "metadata": {},
     "output_type": "execute_result"
    }
   ],
   "source": [
    "### Import and clean the Gene expression cancer 1 dataset\n",
    "data = pd.read_csv(\"/u/teznerem/gene_expression_cancer_.csv\")\n",
    "data"
   ]
  },
  {
   "cell_type": "code",
   "execution_count": 18,
   "id": "3f1c796b-2c5c-4ad4-bb10-26e3acefec91",
   "metadata": {},
   "outputs": [],
   "source": [
    "data = pd.read_csv(\"/u/teznerem/gene_expression_cancer_.csv\", header = 0)"
   ]
  },
  {
   "cell_type": "code",
   "execution_count": 19,
   "id": "3408b55d-197d-4bb8-9085-8594b3025fb2",
   "metadata": {},
   "outputs": [
    {
     "data": {
      "text/html": [
       "<div>\n",
       "<style scoped>\n",
       "    .dataframe tbody tr th:only-of-type {\n",
       "        vertical-align: middle;\n",
       "    }\n",
       "\n",
       "    .dataframe tbody tr th {\n",
       "        vertical-align: top;\n",
       "    }\n",
       "\n",
       "    .dataframe thead th {\n",
       "        text-align: right;\n",
       "    }\n",
       "</style>\n",
       "<table border=\"1\" class=\"dataframe\">\n",
       "  <thead>\n",
       "    <tr style=\"text-align: right;\">\n",
       "      <th></th>\n",
       "      <th>ESR1</th>\n",
       "      <th>PGR</th>\n",
       "      <th>BCL2</th>\n",
       "      <th>NAT1</th>\n",
       "      <th>Results</th>\n",
       "    </tr>\n",
       "  </thead>\n",
       "  <tbody>\n",
       "    <tr>\n",
       "      <th>0</th>\n",
       "      <td>5.1</td>\n",
       "      <td>3.5</td>\n",
       "      <td>1.4</td>\n",
       "      <td>0.2</td>\n",
       "      <td>Cured</td>\n",
       "    </tr>\n",
       "    <tr>\n",
       "      <th>1</th>\n",
       "      <td>4.9</td>\n",
       "      <td>3.0</td>\n",
       "      <td>1.4</td>\n",
       "      <td>0.2</td>\n",
       "      <td>Cured</td>\n",
       "    </tr>\n",
       "    <tr>\n",
       "      <th>2</th>\n",
       "      <td>4.7</td>\n",
       "      <td>3.2</td>\n",
       "      <td>1.3</td>\n",
       "      <td>0.2</td>\n",
       "      <td>Cured</td>\n",
       "    </tr>\n",
       "    <tr>\n",
       "      <th>3</th>\n",
       "      <td>4.6</td>\n",
       "      <td>3.1</td>\n",
       "      <td>1.5</td>\n",
       "      <td>0.2</td>\n",
       "      <td>Cured</td>\n",
       "    </tr>\n",
       "    <tr>\n",
       "      <th>4</th>\n",
       "      <td>5.0</td>\n",
       "      <td>3.6</td>\n",
       "      <td>1.4</td>\n",
       "      <td>0.2</td>\n",
       "      <td>Cured</td>\n",
       "    </tr>\n",
       "  </tbody>\n",
       "</table>\n",
       "</div>"
      ],
      "text/plain": [
       "   ESR1  PGR  BCL2  NAT1 Results\n",
       "0   5.1  3.5   1.4   0.2   Cured\n",
       "1   4.9  3.0   1.4   0.2   Cured\n",
       "2   4.7  3.2   1.3   0.2   Cured\n",
       "3   4.6  3.1   1.5   0.2   Cured\n",
       "4   5.0  3.6   1.4   0.2   Cured"
      ]
     },
     "execution_count": 19,
     "metadata": {},
     "output_type": "execute_result"
    }
   ],
   "source": [
    "data.head()"
   ]
  },
  {
   "cell_type": "markdown",
   "id": "cbc9c7b2-1dfe-487e-8a39-3e384e6f3953",
   "metadata": {},
   "source": [
    "### Global correlation [6 pts]"
   ]
  },
  {
   "cell_type": "code",
   "execution_count": 20,
   "id": "99f2dd9d-9bab-42a9-a225-4eb9306f8749",
   "metadata": {},
   "outputs": [
    {
     "name": "stdout",
     "output_type": "stream",
     "text": [
      "Pearson correlation: \n"
     ]
    },
    {
     "data": {
      "text/plain": [
       "np.float64(-0.10936924995064938)"
      ]
     },
     "execution_count": 20,
     "metadata": {},
     "output_type": "execute_result"
    }
   ],
   "source": [
    "### Consider the PGR and ESR1 genes. Do the expression of these two genes correlates?\n",
    "### Consider the entire dataset.\n",
    "### Answer the question with a Pearson correlation coefficient, a plot and brief interpretation of your results.\n",
    "\n",
    "reg = sp.stats.linregress(x=data.PGR, y=data.ESR1, alternative ='two-sided')\n",
    "print(\"Pearson correlation: \")\n",
    "\n",
    "reg.rvalue"
   ]
  },
  {
   "cell_type": "code",
   "execution_count": 21,
   "id": "737cde46-60a6-4f72-b948-e41a3d0e3516",
   "metadata": {},
   "outputs": [
    {
     "data": {
      "image/png": "[encoded data removed]",
      "text/plain": [
       "<Figure size 400x200 with 1 Axes>"
      ]
     },
     "metadata": {},
     "output_type": "display_data"
    }
   ],
   "source": [
    "p = sns.regplot(data, x=\"PGR\", y=\"ESR1\")\n",
    "#regression plotting\n",
    "p.text(4.25, 6.75, np.round(reg.rvalue, 4))\n",
    "p.set_title(\"Correlation of PGR and ESR1 with rounded rvalue\")\n",
    "sns.despine()"
   ]
  },
  {
   "cell_type": "code",
   "execution_count": 22,
   "id": "4e0874a4-3134-49b7-ab17-c07f0e28f34d",
   "metadata": {},
   "outputs": [],
   "source": [
    "#Interpretation: the PGR and ESR1 genes do not correlate as the rvalue is -0.1094 and the regression plot shows a non-linear correlation."
   ]
  },
  {
   "cell_type": "markdown",
   "id": "ffaadb16-d40b-421a-a02b-78b4810b87cd",
   "metadata": {},
   "source": [
    "### Grouped correlations [14 pts]"
   ]
  },
  {
   "cell_type": "code",
   "execution_count": 23,
   "id": "6a7499fc-9a75-4271-83e8-7912fbbeca92",
   "metadata": {},
   "outputs": [
    {
     "name": "stdout",
     "output_type": "stream",
     "text": [
      "     PGR  ESR1 Results\n",
      "0    3.5   5.1   Cured\n",
      "1    3.0   4.9   Cured\n",
      "2    3.2   4.7   Cured\n",
      "3    3.1   4.6   Cured\n",
      "4    3.6   5.0   Cured\n",
      "..   ...   ...     ...\n",
      "145  3.0   6.7    Dead\n",
      "146  2.5   6.3    Dead\n",
      "147  3.0   6.5    Dead\n",
      "148  3.4   6.2    Dead\n",
      "149  3.0   5.9    Dead\n",
      "\n",
      "[150 rows x 3 columns]\n"
     ]
    }
   ],
   "source": [
    "### Consider the same two genes, but assess correlation based on the (\"Results\").\n",
    "sub = data.loc[:, [\"PGR\", \"ESR1\", \"Results\"]]\n",
    "print(sub)\n",
    "\n",
    "datasub_Results_a = sub.loc[sub [\"Results\"] == \"Cured\"]\n",
    "#print(datasub_Results_a)"
   ]
  },
  {
   "cell_type": "code",
   "execution_count": 24,
   "id": "1cf4031e-bce2-4dca-b1e9-acf797c9067f",
   "metadata": {},
   "outputs": [
    {
     "data": {
      "text/plain": [
       "np.float64(0.7467803732639268)"
      ]
     },
     "execution_count": 24,
     "metadata": {},
     "output_type": "execute_result"
    }
   ],
   "source": [
    "sub_a= sp.stats.linregress(x=datasub_Results_a.PGR, y=datasub_Results_a.ESR1, alternative = 'two-sided')\n",
    "sub_a.rvalue"
   ]
  },
  {
   "cell_type": "code",
   "execution_count": 25,
   "id": "e0189b8b-37b8-4f8d-9f9d-466f8ebe0ec2",
   "metadata": {},
   "outputs": [
    {
     "data": {
      "image/png": "[encoded data removed]",
      "text/plain": [
       "<Figure size 400x200 with 1 Axes>"
      ]
     },
     "metadata": {},
     "output_type": "display_data"
    }
   ],
   "source": [
    "s_a=sns.regplot(datasub_Results_a, x=\"PGR\", y=\"ESR1\")"
   ]
  },
  {
   "cell_type": "code",
   "execution_count": 26,
   "id": "1fcd1b51-2c59-4fc7-873b-4705e3ad865b",
   "metadata": {},
   "outputs": [],
   "source": [
    "datasub_Results_b = sub.loc[sub [\"Results\"] == \"Recurrence\"]\n",
    "#print(datasub_Results_2)"
   ]
  },
  {
   "cell_type": "code",
   "execution_count": 27,
   "id": "f2ae7817-bbd1-4500-9ef9-940c4e971596",
   "metadata": {},
   "outputs": [
    {
     "data": {
      "text/plain": [
       "np.float64(0.5280216842864213)"
      ]
     },
     "execution_count": 27,
     "metadata": {},
     "output_type": "execute_result"
    }
   ],
   "source": [
    "sub_b= sp.stats.linregress(x=datasub_Results_b.PGR, y=datasub_Results_b.ESR1, alternative = 'two-sided')\n",
    "sub_b.rvalue"
   ]
  },
  {
   "cell_type": "code",
   "execution_count": 28,
   "id": "00fd38b6-2ceb-4c53-a044-aec2950eeb36",
   "metadata": {},
   "outputs": [
    {
     "data": {
      "image/png": "[encoded data removed]",
      "text/plain": [
       "<Figure size 400x200 with 1 Axes>"
      ]
     },
     "metadata": {},
     "output_type": "display_data"
    }
   ],
   "source": [
    "s_b=sns.regplot(datasub_Results_b, x=\"PGR\", y=\"ESR1\")"
   ]
  },
  {
   "cell_type": "code",
   "execution_count": 29,
   "id": "fd86c91e-b31a-4f5d-9c56-6818517e66c2",
   "metadata": {},
   "outputs": [],
   "source": [
    "datasub_Results_c = sub.loc[sub [\"Results\"] == \"Dead\"]\n",
    "#print(datasub_Results_c)"
   ]
  },
  {
   "cell_type": "code",
   "execution_count": 30,
   "id": "0364ea9c-66d8-43e5-a710-66b7624cc084",
   "metadata": {},
   "outputs": [
    {
     "data": {
      "text/plain": [
       "np.float64(0.46200631074260196)"
      ]
     },
     "execution_count": 30,
     "metadata": {},
     "output_type": "execute_result"
    }
   ],
   "source": [
    "sub_c= sp.stats.linregress(x=datasub_Results_c.PGR, y=datasub_Results_c.ESR1, alternative = 'two-sided')\n",
    "sub_c.rvalue"
   ]
  },
  {
   "cell_type": "code",
   "execution_count": 31,
   "id": "2152a7c0-f5d7-4058-b138-e987e26707ee",
   "metadata": {},
   "outputs": [
    {
     "data": {
      "image/png": "[encoded data removed]",
      "text/plain": [
       "<Figure size 400x200 with 1 Axes>"
      ]
     },
     "metadata": {},
     "output_type": "display_data"
    }
   ],
   "source": [
    "s_c=sns.regplot(datasub_Results_c, x=\"PGR\", y=\"ESR1\")"
   ]
  },
  {
   "cell_type": "code",
   "execution_count": 32,
   "id": "b8bc52fe-5df9-4b7c-add5-f39d75bda5de",
   "metadata": {},
   "outputs": [],
   "source": [
    "### Briefly interpret your results and state if your conclusion differ from the one previously made (Global correlation).\n",
    "\n",
    "\n",
    "#The results reveal that within the specific conditions (cured, recurrence, and dead), there is a moderate positive correlation between PGR and ESR1 expressiob indicating\n",
    "##that while there may not be a positive global correlation, certain clinical conditions might reveal a relationship between these genes' expressions, suggesting \n",
    "###the need for context-specific analyses in gene expression studies. "
   ]
  },
  {
   "cell_type": "markdown",
   "id": "1f0b8a55-dc0a-41bd-a364-6f1573e4b868",
   "metadata": {},
   "source": [
    "### Spearman's rank correlation [5 pts]"
   ]
  },
  {
   "cell_type": "code",
   "execution_count": 33,
   "id": "8e9b3a16-7cbc-4e3b-8400-b5851b480566",
   "metadata": {},
   "outputs": [
    {
     "data": {
      "text/plain": [
       "SignificanceResult(statistic=np.float64(-0.15945651848582867), pvalue=np.float64(0.05128491483834292))"
      ]
     },
     "execution_count": 33,
     "metadata": {},
     "output_type": "execute_result"
    }
   ],
   "source": [
    "### Calculate the Spearman' rank correlations for the four comparisons made previously.\n",
    "### (Global dataset and the three goups)\n",
    "\n",
    "speaR = sp.stats.spearmanr(data.PGR, data.ESR1)\n",
    "speaR"
   ]
  },
  {
   "cell_type": "code",
   "execution_count": 34,
   "id": "0bb3ae6f-e58e-4107-a761-a408729fe8d0",
   "metadata": {},
   "outputs": [
    {
     "data": {
      "text/plain": [
       "SignificanceResult(statistic=np.float64(0.7686085073729368), pvalue=np.float64(7.161781507883594e-11))"
      ]
     },
     "execution_count": 34,
     "metadata": {},
     "output_type": "execute_result"
    }
   ],
   "source": [
    "speaR = sp.stats.spearmanr(datasub_Results_a.PGR, datasub_Results_a.ESR1)\n",
    "speaR"
   ]
  },
  {
   "cell_type": "code",
   "execution_count": 35,
   "id": "f26c5dcf-0e2b-4e20-b866-144470515dd9",
   "metadata": {},
   "outputs": [
    {
     "data": {
      "text/plain": [
       "SignificanceResult(statistic=np.float64(0.5180736821877614), pvalue=np.float64(0.00013742136038254855))"
      ]
     },
     "execution_count": 35,
     "metadata": {},
     "output_type": "execute_result"
    }
   ],
   "source": [
    "speaR = sp.stats.spearmanr(datasub_Results_b.PGR, datasub_Results_b.ESR1)\n",
    "speaR"
   ]
  },
  {
   "cell_type": "code",
   "execution_count": 36,
   "id": "8d939f06-eee8-406d-9ed8-d66ad59d63b7",
   "metadata": {},
   "outputs": [
    {
     "data": {
      "text/plain": [
       "SignificanceResult(statistic=np.float64(0.4389928351262457), pvalue=np.float64(0.0012702598513604905))"
      ]
     },
     "execution_count": 36,
     "metadata": {},
     "output_type": "execute_result"
    }
   ],
   "source": [
    "speaR = sp.stats.spearmanr(datasub_Results_c.PGR, datasub_Results_c.ESR1)\n",
    "speaR"
   ]
  },
  {
   "cell_type": "code",
   "execution_count": 37,
   "id": "4fd13d53-1695-42ff-8ceb-33a4a453eca6",
   "metadata": {},
   "outputs": [],
   "source": [
    "### Do the results differ? if so, do the conlusions also differ? \n",
    "### Briefly explain what are the new conclusions.\n",
    "\n",
    "\n",
    "#In the global dataset there is no significant correlation between PGR and ESR1 expression and this is consistent \n",
    "##with the previous conclusion that there was no strong linear relationship.\n",
    "\n",
    "#In the cured dataset there is a strong positive and statistically significant correlation between PGR and ESR1 \n",
    "##expression which differs from the global conclusion, highlighting that in cured patients, the expression levels of these two genes are strongly linked.\n",
    "\n",
    "#In the recurrence dataset there is a moderate positive and statistically significant correlation between PGR and ESR1 \n",
    "##expression which differs from the global conclusion, suggesting that in patients with recurrence, the expressions of these genes are moderately associated.\n",
    "\n",
    "#In the dead dataset there is a moderate positive and statistically significant correlation between PGR and ESR1 \n",
    "##expression which  also differs from the global conclusion, indicating that in deceased patients, the expressions of these genes are moderately associated.\n",
    "\n",
    "### Briefly explain what are the new conclusions.\n",
    "\n",
    "#All in all, these results indicate that while there may not be a significant global correlation between PGR and ESR1 expressions, specific \n",
    "##patient conditions (cured, recurrence, dead) show significant positive correlations. This implies that the relationship between these \n",
    "###genes' expressions is context-dependent, varying significantly with the clinical condition of the patients.\n"
   ]
  }
 ],
 "metadata": {
  "kernelspec": {
   "display_name": "Python (bioinfo)",
   "language": "python",
   "name": "bioinfo"
  },
  "language_info": {
   "codemirror_mode": {
    "name": "ipython",
    "version": 3
   },
   "file_extension": ".py",
   "mimetype": "text/x-python",
   "name": "python",
   "nbconvert_exporter": "python",
   "pygments_lexer": "ipython3",
   "version": "3.10.4"
  }
 },
 "nbformat": 4,
 "nbformat_minor": 5
}
