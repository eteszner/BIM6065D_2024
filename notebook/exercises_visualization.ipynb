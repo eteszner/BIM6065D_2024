{
 "cells": [
  {
   "cell_type": "markdown",
   "metadata": {
    "tags": []
   },
   "source": [
    "# Data Analysis and Data Science\n",
    "## Be curious about the data \n",
    "\n",
    "By: NOME\n",
    "<br>For: BIM6065-65\n",
    "\n",
    "<hr style=\"border:1px solid black\"> </hr>\n"
   ]
  },
  {
   "cell_type": "markdown",
   "metadata": {},
   "source": [
    "**Student Name**: \n",
    "\n",
    "Complete the following exercises and submit your Notebook in a HTML format on StudiUM. You have until July 3rd, noon to hand-in your Notebook."
   ]
  },
  {
   "cell_type": "markdown",
   "metadata": {},
   "source": [
    "## Python Libraries\n",
    "\n",
    "Import the Pandas, and Seaborn"
   ]
  },
  {
   "cell_type": "code",
   "execution_count": 36,
   "metadata": {},
   "outputs": [],
   "source": [
    "import pandas as pd\n",
    "import seaborn as sns"
   ]
  },
  {
   "cell_type": "code",
   "execution_count": 37,
   "metadata": {},
   "outputs": [],
   "source": [
    "sns.set(rc={'figure.figsize':(9, 4)})\n",
    "sns.set_theme(context=\"notebook\", style=\"white\", palette=\"Set2\")"
   ]
  },
  {
   "cell_type": "markdown",
   "metadata": {},
   "source": [
    "## Get the data [8 pts]\n",
    "\n",
    "Download the <code>breast_cancer_metametric.tsv</code> dataset from StudiUM and upload it to the Jupyter IRIC server. Using <code>pandas</code>, read the file and save its content into a variable as a dataframe."
   ]
  },
  {
   "cell_type": "code",
   "execution_count": 38,
   "metadata": {},
   "outputs": [],
   "source": [
    "df = pd.read_table(\"breast_cancer_metametric.tsv\")"
   ]
  },
  {
   "cell_type": "code",
   "execution_count": 39,
   "metadata": {},
   "outputs": [],
   "source": [
    "## Define variable with file name\n",
    "fn = \"breast_cancer_metametric.tsv\""
   ]
  },
  {
   "cell_type": "code",
   "execution_count": 40,
   "metadata": {},
   "outputs": [],
   "source": [
    "## Read and save data into variable as a dataframe\n",
    "data = pd.read_table(\"breast_cancer_metametric.tsv\", header = 0)"
   ]
  },
  {
   "cell_type": "code",
   "execution_count": 41,
   "metadata": {},
   "outputs": [
    {
     "data": {
      "text/html": [
       "<div>\n",
       "<style scoped>\n",
       "    .dataframe tbody tr th:only-of-type {\n",
       "        vertical-align: middle;\n",
       "    }\n",
       "\n",
       "    .dataframe tbody tr th {\n",
       "        vertical-align: top;\n",
       "    }\n",
       "\n",
       "    .dataframe thead th {\n",
       "        text-align: right;\n",
       "    }\n",
       "</style>\n",
       "<table border=\"1\" class=\"dataframe\">\n",
       "  <thead>\n",
       "    <tr style=\"text-align: right;\">\n",
       "      <th></th>\n",
       "      <th>CHEMOTHERAPY</th>\n",
       "      <th>HORMONE_THERAPY</th>\n",
       "      <th>RADIO_THERAPY</th>\n",
       "      <th>BREAST_SURGERY</th>\n",
       "      <th>CELLULARITY</th>\n",
       "      <th>VITAL_STATUS</th>\n",
       "      <th>GRADE</th>\n",
       "      <th>COHORT</th>\n",
       "      <th>MUTATION_COUNT</th>\n",
       "      <th>NPI</th>\n",
       "      <th>OS_MONTHS</th>\n",
       "      <th>TUMOR_SIZE</th>\n",
       "      <th>TUMOR_STAGE</th>\n",
       "      <th>AGE_GROUP</th>\n",
       "    </tr>\n",
       "  </thead>\n",
       "  <tbody>\n",
       "    <tr>\n",
       "      <th>0</th>\n",
       "      <td>1.0</td>\n",
       "      <td>1.0</td>\n",
       "      <td>1.0</td>\n",
       "      <td>0.0</td>\n",
       "      <td>2.0</td>\n",
       "      <td>0.0</td>\n",
       "      <td>3.0</td>\n",
       "      <td>1.0</td>\n",
       "      <td>2.0</td>\n",
       "      <td>4.038</td>\n",
       "      <td>174.266667</td>\n",
       "      <td>19.0</td>\n",
       "      <td>1.0</td>\n",
       "      <td>30.0</td>\n",
       "    </tr>\n",
       "    <tr>\n",
       "      <th>1</th>\n",
       "      <td>1.0</td>\n",
       "      <td>1.0</td>\n",
       "      <td>1.0</td>\n",
       "      <td>0.0</td>\n",
       "      <td>1.0</td>\n",
       "      <td>2.0</td>\n",
       "      <td>3.0</td>\n",
       "      <td>1.0</td>\n",
       "      <td>4.0</td>\n",
       "      <td>6.046</td>\n",
       "      <td>48.600000</td>\n",
       "      <td>23.0</td>\n",
       "      <td>2.0</td>\n",
       "      <td>30.0</td>\n",
       "    </tr>\n",
       "    <tr>\n",
       "      <th>2</th>\n",
       "      <td>1.0</td>\n",
       "      <td>1.0</td>\n",
       "      <td>1.0</td>\n",
       "      <td>0.0</td>\n",
       "      <td>0.0</td>\n",
       "      <td>1.0</td>\n",
       "      <td>3.0</td>\n",
       "      <td>1.0</td>\n",
       "      <td>3.0</td>\n",
       "      <td>5.104</td>\n",
       "      <td>79.333333</td>\n",
       "      <td>52.0</td>\n",
       "      <td>3.0</td>\n",
       "      <td>80.0</td>\n",
       "    </tr>\n",
       "    <tr>\n",
       "      <th>3</th>\n",
       "      <td>0.0</td>\n",
       "      <td>1.0</td>\n",
       "      <td>0.0</td>\n",
       "      <td>0.0</td>\n",
       "      <td>2.0</td>\n",
       "      <td>0.0</td>\n",
       "      <td>2.0</td>\n",
       "      <td>3.0</td>\n",
       "      <td>5.0</td>\n",
       "      <td>3.036</td>\n",
       "      <td>224.600000</td>\n",
       "      <td>18.0</td>\n",
       "      <td>1.0</td>\n",
       "      <td>40.0</td>\n",
       "    </tr>\n",
       "    <tr>\n",
       "      <th>4</th>\n",
       "      <td>0.0</td>\n",
       "      <td>1.0</td>\n",
       "      <td>1.0</td>\n",
       "      <td>1.0</td>\n",
       "      <td>2.0</td>\n",
       "      <td>1.0</td>\n",
       "      <td>3.0</td>\n",
       "      <td>1.0</td>\n",
       "      <td>2.0</td>\n",
       "      <td>4.040</td>\n",
       "      <td>147.366667</td>\n",
       "      <td>20.0</td>\n",
       "      <td>1.0</td>\n",
       "      <td>60.0</td>\n",
       "    </tr>\n",
       "  </tbody>\n",
       "</table>\n",
       "</div>"
      ],
      "text/plain": [
       "   CHEMOTHERAPY  HORMONE_THERAPY  RADIO_THERAPY  BREAST_SURGERY  CELLULARITY  \\\n",
       "0           1.0              1.0            1.0             0.0          2.0   \n",
       "1           1.0              1.0            1.0             0.0          1.0   \n",
       "2           1.0              1.0            1.0             0.0          0.0   \n",
       "3           0.0              1.0            0.0             0.0          2.0   \n",
       "4           0.0              1.0            1.0             1.0          2.0   \n",
       "\n",
       "   VITAL_STATUS  GRADE  COHORT  MUTATION_COUNT    NPI   OS_MONTHS  TUMOR_SIZE  \\\n",
       "0           0.0    3.0     1.0             2.0  4.038  174.266667        19.0   \n",
       "1           2.0    3.0     1.0             4.0  6.046   48.600000        23.0   \n",
       "2           1.0    3.0     1.0             3.0  5.104   79.333333        52.0   \n",
       "3           0.0    2.0     3.0             5.0  3.036  224.600000        18.0   \n",
       "4           1.0    3.0     1.0             2.0  4.040  147.366667        20.0   \n",
       "\n",
       "   TUMOR_STAGE  AGE_GROUP  \n",
       "0          1.0       30.0  \n",
       "1          2.0       30.0  \n",
       "2          3.0       80.0  \n",
       "3          1.0       40.0  \n",
       "4          1.0       60.0  "
      ]
     },
     "execution_count": 41,
     "metadata": {},
     "output_type": "execute_result"
    }
   ],
   "source": [
    "data.head()"
   ]
  },
  {
   "cell_type": "code",
   "execution_count": 42,
   "metadata": {},
   "outputs": [
    {
     "data": {
      "text/html": [
       "<div>\n",
       "<style scoped>\n",
       "    .dataframe tbody tr th:only-of-type {\n",
       "        vertical-align: middle;\n",
       "    }\n",
       "\n",
       "    .dataframe tbody tr th {\n",
       "        vertical-align: top;\n",
       "    }\n",
       "\n",
       "    .dataframe thead th {\n",
       "        text-align: right;\n",
       "    }\n",
       "</style>\n",
       "<table border=\"1\" class=\"dataframe\">\n",
       "  <thead>\n",
       "    <tr style=\"text-align: right;\">\n",
       "      <th></th>\n",
       "      <th>CHEMOTHERAPY</th>\n",
       "      <th>HORMONE_THERAPY</th>\n",
       "      <th>RADIO_THERAPY</th>\n",
       "      <th>BREAST_SURGERY</th>\n",
       "      <th>CELLULARITY</th>\n",
       "      <th>VITAL_STATUS</th>\n",
       "      <th>GRADE</th>\n",
       "      <th>COHORT</th>\n",
       "      <th>MUTATION_COUNT</th>\n",
       "      <th>NPI</th>\n",
       "      <th>OS_MONTHS</th>\n",
       "      <th>TUMOR_SIZE</th>\n",
       "      <th>TUMOR_STAGE</th>\n",
       "      <th>AGE_GROUP</th>\n",
       "    </tr>\n",
       "  </thead>\n",
       "  <tbody>\n",
       "    <tr>\n",
       "      <th>0</th>\n",
       "      <td>1.0</td>\n",
       "      <td>1.0</td>\n",
       "      <td>1.0</td>\n",
       "      <td>0.0</td>\n",
       "      <td>2.0</td>\n",
       "      <td>0.0</td>\n",
       "      <td>3.0</td>\n",
       "      <td>1.0</td>\n",
       "      <td>2.0</td>\n",
       "      <td>4.038</td>\n",
       "      <td>174.266667</td>\n",
       "      <td>19.0</td>\n",
       "      <td>1.0</td>\n",
       "      <td>30.0</td>\n",
       "    </tr>\n",
       "    <tr>\n",
       "      <th>1</th>\n",
       "      <td>1.0</td>\n",
       "      <td>1.0</td>\n",
       "      <td>1.0</td>\n",
       "      <td>0.0</td>\n",
       "      <td>1.0</td>\n",
       "      <td>2.0</td>\n",
       "      <td>3.0</td>\n",
       "      <td>1.0</td>\n",
       "      <td>4.0</td>\n",
       "      <td>6.046</td>\n",
       "      <td>48.600000</td>\n",
       "      <td>23.0</td>\n",
       "      <td>2.0</td>\n",
       "      <td>30.0</td>\n",
       "    </tr>\n",
       "    <tr>\n",
       "      <th>2</th>\n",
       "      <td>1.0</td>\n",
       "      <td>1.0</td>\n",
       "      <td>1.0</td>\n",
       "      <td>0.0</td>\n",
       "      <td>0.0</td>\n",
       "      <td>1.0</td>\n",
       "      <td>3.0</td>\n",
       "      <td>1.0</td>\n",
       "      <td>3.0</td>\n",
       "      <td>5.104</td>\n",
       "      <td>79.333333</td>\n",
       "      <td>52.0</td>\n",
       "      <td>3.0</td>\n",
       "      <td>80.0</td>\n",
       "    </tr>\n",
       "    <tr>\n",
       "      <th>3</th>\n",
       "      <td>0.0</td>\n",
       "      <td>1.0</td>\n",
       "      <td>0.0</td>\n",
       "      <td>0.0</td>\n",
       "      <td>2.0</td>\n",
       "      <td>0.0</td>\n",
       "      <td>2.0</td>\n",
       "      <td>3.0</td>\n",
       "      <td>5.0</td>\n",
       "      <td>3.036</td>\n",
       "      <td>224.600000</td>\n",
       "      <td>18.0</td>\n",
       "      <td>1.0</td>\n",
       "      <td>40.0</td>\n",
       "    </tr>\n",
       "    <tr>\n",
       "      <th>4</th>\n",
       "      <td>0.0</td>\n",
       "      <td>1.0</td>\n",
       "      <td>1.0</td>\n",
       "      <td>1.0</td>\n",
       "      <td>2.0</td>\n",
       "      <td>1.0</td>\n",
       "      <td>3.0</td>\n",
       "      <td>1.0</td>\n",
       "      <td>2.0</td>\n",
       "      <td>4.040</td>\n",
       "      <td>147.366667</td>\n",
       "      <td>20.0</td>\n",
       "      <td>1.0</td>\n",
       "      <td>60.0</td>\n",
       "    </tr>\n",
       "    <tr>\n",
       "      <th>...</th>\n",
       "      <td>...</td>\n",
       "      <td>...</td>\n",
       "      <td>...</td>\n",
       "      <td>...</td>\n",
       "      <td>...</td>\n",
       "      <td>...</td>\n",
       "      <td>...</td>\n",
       "      <td>...</td>\n",
       "      <td>...</td>\n",
       "      <td>...</td>\n",
       "      <td>...</td>\n",
       "      <td>...</td>\n",
       "      <td>...</td>\n",
       "      <td>...</td>\n",
       "    </tr>\n",
       "    <tr>\n",
       "      <th>1099</th>\n",
       "      <td>0.0</td>\n",
       "      <td>1.0</td>\n",
       "      <td>1.0</td>\n",
       "      <td>1.0</td>\n",
       "      <td>2.0</td>\n",
       "      <td>1.0</td>\n",
       "      <td>3.0</td>\n",
       "      <td>3.0</td>\n",
       "      <td>7.0</td>\n",
       "      <td>4.036</td>\n",
       "      <td>212.200000</td>\n",
       "      <td>18.0</td>\n",
       "      <td>1.0</td>\n",
       "      <td>60.0</td>\n",
       "    </tr>\n",
       "    <tr>\n",
       "      <th>1100</th>\n",
       "      <td>0.0</td>\n",
       "      <td>0.0</td>\n",
       "      <td>0.0</td>\n",
       "      <td>0.0</td>\n",
       "      <td>1.0</td>\n",
       "      <td>2.0</td>\n",
       "      <td>3.0</td>\n",
       "      <td>3.0</td>\n",
       "      <td>15.0</td>\n",
       "      <td>4.050</td>\n",
       "      <td>51.966667</td>\n",
       "      <td>25.0</td>\n",
       "      <td>2.0</td>\n",
       "      <td>60.0</td>\n",
       "    </tr>\n",
       "    <tr>\n",
       "      <th>1101</th>\n",
       "      <td>0.0</td>\n",
       "      <td>1.0</td>\n",
       "      <td>1.0</td>\n",
       "      <td>0.0</td>\n",
       "      <td>2.0</td>\n",
       "      <td>2.0</td>\n",
       "      <td>3.0</td>\n",
       "      <td>3.0</td>\n",
       "      <td>8.0</td>\n",
       "      <td>6.060</td>\n",
       "      <td>80.733333</td>\n",
       "      <td>30.0</td>\n",
       "      <td>3.0</td>\n",
       "      <td>60.0</td>\n",
       "    </tr>\n",
       "    <tr>\n",
       "      <th>1102</th>\n",
       "      <td>0.0</td>\n",
       "      <td>1.0</td>\n",
       "      <td>1.0</td>\n",
       "      <td>1.0</td>\n",
       "      <td>2.0</td>\n",
       "      <td>2.0</td>\n",
       "      <td>2.0</td>\n",
       "      <td>3.0</td>\n",
       "      <td>8.0</td>\n",
       "      <td>3.050</td>\n",
       "      <td>87.733333</td>\n",
       "      <td>25.0</td>\n",
       "      <td>2.0</td>\n",
       "      <td>60.0</td>\n",
       "    </tr>\n",
       "    <tr>\n",
       "      <th>1103</th>\n",
       "      <td>0.0</td>\n",
       "      <td>0.0</td>\n",
       "      <td>1.0</td>\n",
       "      <td>1.0</td>\n",
       "      <td>2.0</td>\n",
       "      <td>0.0</td>\n",
       "      <td>2.0</td>\n",
       "      <td>3.0</td>\n",
       "      <td>4.0</td>\n",
       "      <td>3.024</td>\n",
       "      <td>175.333333</td>\n",
       "      <td>12.0</td>\n",
       "      <td>1.0</td>\n",
       "      <td>40.0</td>\n",
       "    </tr>\n",
       "  </tbody>\n",
       "</table>\n",
       "<p>1104 rows × 14 columns</p>\n",
       "</div>"
      ],
      "text/plain": [
       "      CHEMOTHERAPY  HORMONE_THERAPY  RADIO_THERAPY  BREAST_SURGERY  \\\n",
       "0              1.0              1.0            1.0             0.0   \n",
       "1              1.0              1.0            1.0             0.0   \n",
       "2              1.0              1.0            1.0             0.0   \n",
       "3              0.0              1.0            0.0             0.0   \n",
       "4              0.0              1.0            1.0             1.0   \n",
       "...            ...              ...            ...             ...   \n",
       "1099           0.0              1.0            1.0             1.0   \n",
       "1100           0.0              0.0            0.0             0.0   \n",
       "1101           0.0              1.0            1.0             0.0   \n",
       "1102           0.0              1.0            1.0             1.0   \n",
       "1103           0.0              0.0            1.0             1.0   \n",
       "\n",
       "      CELLULARITY  VITAL_STATUS  GRADE  COHORT  MUTATION_COUNT    NPI  \\\n",
       "0             2.0           0.0    3.0     1.0             2.0  4.038   \n",
       "1             1.0           2.0    3.0     1.0             4.0  6.046   \n",
       "2             0.0           1.0    3.0     1.0             3.0  5.104   \n",
       "3             2.0           0.0    2.0     3.0             5.0  3.036   \n",
       "4             2.0           1.0    3.0     1.0             2.0  4.040   \n",
       "...           ...           ...    ...     ...             ...    ...   \n",
       "1099          2.0           1.0    3.0     3.0             7.0  4.036   \n",
       "1100          1.0           2.0    3.0     3.0            15.0  4.050   \n",
       "1101          2.0           2.0    3.0     3.0             8.0  6.060   \n",
       "1102          2.0           2.0    2.0     3.0             8.0  3.050   \n",
       "1103          2.0           0.0    2.0     3.0             4.0  3.024   \n",
       "\n",
       "       OS_MONTHS  TUMOR_SIZE  TUMOR_STAGE  AGE_GROUP  \n",
       "0     174.266667        19.0          1.0       30.0  \n",
       "1      48.600000        23.0          2.0       30.0  \n",
       "2      79.333333        52.0          3.0       80.0  \n",
       "3     224.600000        18.0          1.0       40.0  \n",
       "4     147.366667        20.0          1.0       60.0  \n",
       "...          ...         ...          ...        ...  \n",
       "1099  212.200000        18.0          1.0       60.0  \n",
       "1100   51.966667        25.0          2.0       60.0  \n",
       "1101   80.733333        30.0          3.0       60.0  \n",
       "1102   87.733333        25.0          2.0       60.0  \n",
       "1103  175.333333        12.0          1.0       40.0  \n",
       "\n",
       "[1104 rows x 14 columns]"
      ]
     },
     "execution_count": 42,
     "metadata": {},
     "output_type": "execute_result"
    }
   ],
   "source": [
    "data"
   ]
  },
  {
   "cell_type": "markdown",
   "metadata": {},
   "source": [
    "## Explore the data [12 pts]\n",
    "\n",
    "Using various <code>pandas</code> functions, answer the following questions. **Make sure you answers are explicitely outputed by your code.**"
   ]
  },
  {
   "cell_type": "markdown",
   "metadata": {},
   "source": [
    "1. How many variables and samples are there in your dataset?"
   ]
  },
  {
   "cell_type": "code",
   "execution_count": 43,
   "metadata": {},
   "outputs": [
    {
     "name": "stdout",
     "output_type": "stream",
     "text": [
      "1104 samples\n",
      "14 variables\n"
     ]
    }
   ],
   "source": [
    "print(df.shape[0], \"samples\")\n",
    "print(df.shape[1], \"variables\")\n",
    "#there are 1104 samples and 14 variables "
   ]
  },
  {
   "cell_type": "markdown",
   "metadata": {},
   "source": [
    "***\n",
    "2. How many age groups are considered?"
   ]
  },
  {
   "cell_type": "code",
   "execution_count": 44,
   "metadata": {},
   "outputs": [
    {
     "name": "stdout",
     "output_type": "stream",
     "text": [
      "Nb. of outcomes: 6\n"
     ]
    }
   ],
   "source": [
    "print(\"Nb. of outcomes:\", data.loc[:, \"AGE_GROUP\"].nunique())\n",
    "#there are 6 age groups considered"
   ]
  },
  {
   "cell_type": "code",
   "execution_count": 45,
   "metadata": {},
   "outputs": [
    {
     "data": {
      "text/plain": [
       "array([30., 80., 40., 60., 50., nan, 90.])"
      ]
     },
     "execution_count": 45,
     "metadata": {},
     "output_type": "execute_result"
    }
   ],
   "source": [
    "data.loc[:, \"AGE_GROUP\"].unique()\n",
    "#the age groups considered in the data set are printed below."
   ]
  },
  {
   "cell_type": "markdown",
   "metadata": {},
   "source": [
    "***\n",
    "3. What is the mean overall survival (in month)?"
   ]
  },
  {
   "cell_type": "code",
   "execution_count": 46,
   "metadata": {},
   "outputs": [
    {
     "name": "stdout",
     "output_type": "stream",
     "text": [
      "       OS_MONTHS\n",
      "0     174.266667\n",
      "1      48.600000\n",
      "2      79.333333\n",
      "3     224.600000\n",
      "4     147.366667\n",
      "...          ...\n",
      "1099  212.200000\n",
      "1100   51.966667\n",
      "1101   80.733333\n",
      "1102   87.733333\n",
      "1103  175.333333\n",
      "\n",
      "[1104 rows x 1 columns]\n",
      "Mean. values: \n",
      "OS_MONTHS    126.103261\n",
      "dtype: float64\n"
     ]
    }
   ],
   "source": [
    "num = data.loc[:, [\"OS_MONTHS\"]]\n",
    "print(num)\n",
    "\n",
    "print(\"Mean. values: \")\n",
    "print(num.mean(axis=0))"
   ]
  },
  {
   "cell_type": "markdown",
   "metadata": {},
   "source": [
    "***\n",
    "4. What is the highest mutation count?"
   ]
  },
  {
   "cell_type": "code",
   "execution_count": 47,
   "metadata": {},
   "outputs": [
    {
     "name": "stdout",
     "output_type": "stream",
     "text": [
      "      MUTATION_COUNT\n",
      "0                2.0\n",
      "1                4.0\n",
      "2                3.0\n",
      "3                5.0\n",
      "4                2.0\n",
      "...              ...\n",
      "1099             7.0\n",
      "1100            15.0\n",
      "1101             8.0\n",
      "1102             8.0\n",
      "1103             4.0\n",
      "\n",
      "[1104 rows x 1 columns]\n",
      "Max. values: \n",
      "MUTATION_COUNT    46.0\n",
      "dtype: float64\n"
     ]
    }
   ],
   "source": [
    "num = data.loc[:, [\"MUTATION_COUNT\"]]\n",
    "print(num)\n",
    "\n",
    "print(\"Max. values: \")\n",
    "print(num.max(axis=0))\n",
    "#the highest mutation count is 46."
   ]
  },
  {
   "cell_type": "markdown",
   "metadata": {},
   "source": [
    "***\n",
    "5. How large is the smallest tumor?"
   ]
  },
  {
   "cell_type": "code",
   "execution_count": 48,
   "metadata": {},
   "outputs": [
    {
     "name": "stdout",
     "output_type": "stream",
     "text": [
      "      TUMOR_SIZE\n",
      "0           19.0\n",
      "1           23.0\n",
      "2           52.0\n",
      "3           18.0\n",
      "4           20.0\n",
      "...          ...\n",
      "1099        18.0\n",
      "1100        25.0\n",
      "1101        30.0\n",
      "1102        25.0\n",
      "1103        12.0\n",
      "\n",
      "[1104 rows x 1 columns]\n",
      "Min. values: \n",
      "TUMOR_SIZE    1.0\n",
      "dtype: float64\n"
     ]
    }
   ],
   "source": [
    "num = data.loc[:, [\"TUMOR_SIZE\"]]\n",
    "print(num)\n",
    "\n",
    "print(\"Min. values: \")\n",
    "print(num.min(axis=0))\n",
    "#the smallest tumor is 1.0 large in size."
   ]
  },
  {
   "cell_type": "markdown",
   "metadata": {},
   "source": [
    "***\n",
    "6. What are the grade considered in the dataset?"
   ]
  },
  {
   "cell_type": "code",
   "execution_count": 49,
   "metadata": {},
   "outputs": [
    {
     "data": {
      "text/plain": [
       "array([3., 2., 1.])"
      ]
     },
     "execution_count": 49,
     "metadata": {},
     "output_type": "execute_result"
    }
   ],
   "source": [
    "data.loc[:, \"GRADE\"].unique()\n",
    "#the grades considered in the data set are printed below."
   ]
  },
  {
   "cell_type": "markdown",
   "metadata": {},
   "source": [
    "***\n",
    "7. What is the median Nottingham Prognostic Index (NPI)?"
   ]
  },
  {
   "cell_type": "code",
   "execution_count": 50,
   "metadata": {},
   "outputs": [
    {
     "name": "stdout",
     "output_type": "stream",
     "text": [
      "        NPI\n",
      "0     4.038\n",
      "1     6.046\n",
      "2     5.104\n",
      "3     3.036\n",
      "4     4.040\n",
      "...     ...\n",
      "1099  4.036\n",
      "1100  4.050\n",
      "1101  6.060\n",
      "1102  3.050\n",
      "1103  3.024\n",
      "\n",
      "[1104 rows x 1 columns]\n",
      "Median values: \n",
      "NPI    4.046\n",
      "dtype: float64\n"
     ]
    }
   ],
   "source": [
    "num = data.loc[:, [\"NPI\"]]\n",
    "print(num)\n",
    "\n",
    "print(\"Median values: \") \n",
    "print(num.median(axis=0))\n",
    "#the median NPI value is 4.046"
   ]
  },
  {
   "cell_type": "markdown",
   "metadata": {},
   "source": [
    "***\n",
    "8. a) What are the possible values for CHEMOTHERAPY, HORMONE_THERAPY, RADIO_THERAPY, BREAST_SURGERY? <br>b) What do you think these values represent? "
   ]
  },
  {
   "cell_type": "code",
   "execution_count": 51,
   "metadata": {},
   "outputs": [
    {
     "name": "stdout",
     "output_type": "stream",
     "text": [
      "CHEMOTHERAPY\n",
      "[1. 0.]\n",
      "\n",
      "HORMONE_THERAPY\n",
      "[1. 0.]\n",
      "\n",
      "RADIO_THERAPY\n",
      "[1. 0.]\n",
      "\n",
      "BREAST_SURGERY\n",
      "[0. 1.]\n",
      "\n",
      "These values represent\n"
     ]
    }
   ],
   "source": [
    "data.loc[:, \"CHEMOTHERAPY\"].unique()\n",
    "print(\"CHEMOTHERAPY\")\n",
    "print(data.loc[:, \"CHEMOTHERAPY\"].unique())\n",
    "print()\n",
    "\n",
    "data.loc[:, \"HORMONE_THERAPY\"].unique()\n",
    "print(\"HORMONE_THERAPY\")\n",
    "print(data.loc[:, \"HORMONE_THERAPY\"].unique())\n",
    "print()\n",
    "\n",
    "data.loc[:, \"RADIO_THERAPY\"].unique()\n",
    "print(\"RADIO_THERAPY\")\n",
    "print(data.loc[:, \"RADIO_THERAPY\"].unique())\n",
    "print()\n",
    "\n",
    "data.loc[:, \"BREAST_SURGERY\"].unique()\n",
    "print(\"BREAST_SURGERY\")\n",
    "print(data.loc[:, \"BREAST_SURGERY\"].unique())\n",
    "print()\n",
    "\n",
    "print(\"These values represent\")"
   ]
  },
  {
   "cell_type": "markdown",
   "metadata": {},
   "source": [
    "***\n",
    "10. How many patients in the dataset have had breast surgery?"
   ]
  },
  {
   "cell_type": "code",
   "execution_count": 52,
   "metadata": {},
   "outputs": [
    {
     "name": "stdout",
     "output_type": "stream",
     "text": [
      "Patients have had breast surgery: 2\n"
     ]
    }
   ],
   "source": [
    "print(\"Patients have had breast surgery:\", data.loc[:, \"BREAST_SURGERY\"].nunique())"
   ]
  },
  {
   "cell_type": "markdown",
   "metadata": {},
   "source": [
    "## Visualize the data [30 pts pts]"
   ]
  },
  {
   "cell_type": "markdown",
   "metadata": {},
   "source": [
    "You are first interested in the distribution of the overall survival of the various samples. You hypothesize that the distribution differ from one tumor stage to another.\n",
    "\n",
    "Design a figure that will help verify your hypothesis. **Make sure your figure is readable and displayed after your code.**\n",
    "\n",
    "Briefly intepret your figure."
   ]
  },
  {
   "cell_type": "code",
   "execution_count": 53,
   "metadata": {},
   "outputs": [],
   "source": [
    "import seaborn as sns"
   ]
  },
  {
   "cell_type": "code",
   "execution_count": 54,
   "metadata": {},
   "outputs": [],
   "source": [
    "sns.set(rc={'figure.figsize':(5, 2)})\n",
    "sns.set_theme(context=\"notebook\", style=\"white\", palette=\"Set2\")"
   ]
  },
  {
   "cell_type": "code",
   "execution_count": 55,
   "metadata": {},
   "outputs": [
    {
     "data": {
      "image/png": "[encoded data removed]",
      "text/plain": [
       "<Figure size 500x200 with 1 Axes>"
      ]
     },
     "metadata": {},
     "output_type": "display_data"
    }
   ],
   "source": [
    "p = sns.histplot(data, x=\"OS_MONTHS\", bins=50, hue = \"TUMOR_STAGE\", multiple=\"stack\")\n",
    "p.set_title(\"Stacked Distributions of Overall Survival Months based on Tumor Stage\")\n",
    "\n",
    "sns.move_legend(p, \"upper left\", bbox_to_anchor=(1, 1), title=None, frameon=False)\n",
    "sns.despine()"
   ]
  },
  {
   "cell_type": "code",
   "execution_count": 1,
   "metadata": {},
   "outputs": [],
   "source": [
    "#Interpretation:\n",
    "\n",
    "#1. Distribution Differences: The stacked histogram visually represents the differences in the distribution of overall survival (OS) months across different tumor stages. Each color in the stack corresponds to a different tumor stage.\n",
    "\n",
    "#2. Overall Trend: The overall survival tends to decrease with the increasing tumor stage. For instance, lighter colors (representing earlier stages) are more prominent in the higher OS months, indicating better survival rates.\n",
    "\n",
    "#3. Peak Observations: The peaks in the histogram for different stages help identify the most common survival durations for each tumor stage.\")\n",
    "\n",
    "#4. Readability: The stacked format allows easy comparison of survival distributions across stages without cluttering the graph.\")"
   ]
  },
  {
   "cell_type": "markdown",
   "metadata": {},
   "source": [
    "***\n",
    "You are now interested in the relationship between the overall survival and the other variables measured. Given your knowledge of the dataset, make an hypothesis that considered the overall survival.\n",
    "\n",
    "Explore the dataset and generate a least one figure that validate or invalidate your hypothesis. **Make sure your figure is readable and displayed after your code.**\n",
    "\n",
    "Briefly intepret your figure."
   ]
  },
  {
   "cell_type": "code",
   "execution_count": 57,
   "metadata": {},
   "outputs": [],
   "source": [
    "#Hypothesis: Higher age groups are associated with shorter overall survival (OS) months."
   ]
  },
  {
   "cell_type": "code",
   "execution_count": 73,
   "metadata": {},
   "outputs": [
    {
     "data": {
      "image/png": "[encoded data removed]",
      "text/plain": [
       "<Figure size 500x200 with 1 Axes>"
      ]
     },
     "metadata": {},
     "output_type": "display_data"
    }
   ],
   "source": [
    "p = sns.histplot(data, x=\"OS_MONTHS\", bins=25, hue = \"AGE_GROUP\", multiple=\"stack\")\n",
    "sns.move_legend(p, \"upper left\", bbox_to_anchor=(1, 1))\n",
    "sns.despine()"
   ]
  },
  {
   "cell_type": "code",
   "execution_count": 59,
   "metadata": {},
   "outputs": [],
   "source": [
    "#Interpretation:"
   ]
  }
 ],
 "metadata": {
  "kernelspec": {
   "display_name": "Python (bioinfo)",
   "language": "python",
   "name": "bioinfo"
  },
  "language_info": {
   "codemirror_mode": {
    "name": "ipython",
    "version": 3
   },
   "file_extension": ".py",
   "mimetype": "text/x-python",
   "name": "python",
   "nbconvert_exporter": "python",
   "pygments_lexer": "ipython3",
   "version": "3.10.4"
  }
 },
 "nbformat": 4,
 "nbformat_minor": 4
}
